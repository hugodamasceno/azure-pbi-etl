{
 "cells": [
  {
   "cell_type": "markdown",
   "metadata": {},
   "source": [
    "---\n",
    "<div align=\"center\">\n",
    "    <h2> CRIADOR DE TABELAS PostgreSQL NA AZURE\n",
    "    </h2>\n",
    "</div>\n",
    "\n",
    "---\n",
    "\n",
    "<div aligh=\"justify\">\n",
    "    <p> O código a seguir faz uso das queries em SQL disponibilizada pela <a ref=\"https://github.com/julianazanelatto/power_bi_analyst/tree/b010c1874a183a0fb4b831e76dc68b9b872becec/M%C3%B3dulo%203/Desafio%20de%20Projeto\">DIO</a> para criar e popular as bases de dados necessárias em um banco de dados na AZURE. Naturalmente, a fim de alinhar com minha prática profissional, adequei o problema, originalmente para MySQL na AZURE para PostgreSQL na AZURE.\n",
    "    </p>\n",
    "</div>\n",
    "\n",
    "---"
   ]
  },
  {
   "cell_type": "code",
   "execution_count": 1,
   "metadata": {},
   "outputs": [],
   "source": [
    "# Bibliotecas necessárias para o presente projeto\n",
    "import psycopg2\n",
    "import re\n",
    "import pandas as pd\n",
    "from unidecode import unidecode\n",
    "from os import listdir"
   ]
  },
  {
   "cell_type": "code",
   "execution_count": 2,
   "metadata": {},
   "outputs": [],
   "source": [
    "# Arquivo de credenciais necessárias para acessar banco de dados\n",
    "credentials = pd.read_csv(\"../credentials/credentials.csv\").iloc[0].to_dict()"
   ]
  },
  {
   "cell_type": "code",
   "execution_count": 3,
   "metadata": {},
   "outputs": [],
   "source": [
    "# Função para criar conexão e cursor\n",
    "def conectar():\n",
    "    host = credentials['host']\n",
    "    dbname = credentials['database']\n",
    "    user = credentials['user']\n",
    "    password = credentials['password']\n",
    "    sslmode = \"require\"\n",
    "\n",
    "    conn_string = \"host={0} user={1} dbname={2} password={3} sslmode={4}\".format(host, user, dbname, password, sslmode)\n",
    "    conexao = psycopg2.connect(conn_string) \n",
    "    print(\"Connection established\")\n",
    "    cursor = conexao.cursor()\n",
    "\n",
    "    cursor = conexao.cursor()\n",
    "    return conexao, cursor\n",
    "\n",
    "# Função para executar uma query\n",
    "def executar_query(cursor, query):\n",
    "    cursor.execute(query)\n",
    "    # Verificar se a consulta retorna resultados (SELECT)\n",
    "    if cursor.description is not None:\n",
    "        colunas = [desc[0] for desc in cursor.description]\n",
    "        resultados = cursor.fetchall()\n",
    "        return pd.DataFrame(resultados, columns=colunas)\n",
    "    else:\n",
    "        # Se não há resultados, retornar None ou outra indicação apropriada\n",
    "        return None\n",
    "\n",
    "# Função para fechar a conexão e o cursor\n",
    "def fechar_conexao(conexao, cursor):\n",
    "    cursor.close()\n",
    "    conexao.close()\n",
    "    print(\"Connection finished\")"
   ]
  },
  {
   "cell_type": "markdown",
   "metadata": {},
   "source": [
    "---"
   ]
  },
  {
   "cell_type": "code",
   "execution_count": 4,
   "metadata": {},
   "outputs": [],
   "source": [
    "queries_sql = [ x for x in listdir(\"../queries/\") if x.__contains__(\".sql\")]"
   ]
  },
  {
   "cell_type": "code",
   "execution_count": 5,
   "metadata": {},
   "outputs": [],
   "source": [
    "# Especifique o caminho do arquivo SQL\n",
    "caminho_arquivo_sql = '../queries/'\n",
    "queries = {}\n",
    "for query in queries_sql:\n",
    "\n",
    "    # Atribuindo queries às \n",
    "    with open(caminho_arquivo_sql+query, 'r') as arquivo_sql:\n",
    "        conteudo_sql = arquivo_sql.read()\n",
    "    queries[query[:-4]] = conteudo_sql"
   ]
  },
  {
   "cell_type": "markdown",
   "metadata": {},
   "source": [
    "---"
   ]
  },
  {
   "cell_type": "code",
   "execution_count": 7,
   "metadata": {},
   "outputs": [
    {
     "name": "stdout",
     "output_type": "stream",
     "text": [
      "Connection established\n",
      "Connection finished\n"
     ]
    }
   ],
   "source": [
    "## Cria conexão\n",
    "conexao, cursor = conectar()\n",
    "\n",
    "for query in queries.values():\n",
    "    # Executa a query\n",
    "    executar_query(cursor, query)\n",
    "\n",
    "# Comita possível criação de nova tabela\n",
    "conexao.commit()\n",
    "\n",
    "# Fecha conexão\n",
    "fechar_conexao(conexao, cursor)"
   ]
  }
 ],
 "metadata": {
  "kernelspec": {
   "display_name": "Python 3",
   "language": "python",
   "name": "python3"
  },
  "language_info": {
   "codemirror_mode": {
    "name": "ipython",
    "version": 3
   },
   "file_extension": ".py",
   "mimetype": "text/x-python",
   "name": "python",
   "nbconvert_exporter": "python",
   "pygments_lexer": "ipython3",
   "version": "3.10.11"
  }
 },
 "nbformat": 4,
 "nbformat_minor": 2
}
